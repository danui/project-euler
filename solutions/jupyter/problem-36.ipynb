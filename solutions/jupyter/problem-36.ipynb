{
 "cells": [
  {
   "cell_type": "markdown",
   "metadata": {},
   "source": [
    "# Problem 36\n",
    "\n",
    "\n",
    "\n",
    "The decimal number, 585 = 1001001001 (binary), is palindromic in both bases.\n",
    "\n",
    "Find the sum of all numbers, less than one million, which are palindromic in base 10 and base 2.\n",
    "\n",
    "(Please note that the palindromic number, in either base, may not include leading zeros.)\n"
   ]
  },
  {
   "cell_type": "code",
   "execution_count": 1,
   "metadata": {},
   "outputs": [],
   "source": [
    "def reverse(s):\n",
    "    \"\"\"\n",
    "    Return the reverse of string 's'.\n",
    "    \"\"\"\n",
    "    return s[::-1]\n",
    "\n",
    "def is_palindrome(s):\n",
    "    return s == reverse(s)\n",
    "\n",
    "def binary_str(n):\n",
    "    \"\"\"\n",
    "    Reference https://stackoverflow.com/questions/699866/python-int-to-binary\n",
    "    \"\"\"\n",
    "    return \"{0:b}\".format(n)"
   ]
  },
  {
   "cell_type": "code",
   "execution_count": 2,
   "metadata": {},
   "outputs": [
    {
     "name": "stdout",
     "output_type": "stream",
     "text": [
      "Sum of all numbers under 1000000 that is palindromic in base 10 and base 2 is 872187\n"
     ]
    }
   ],
   "source": [
    "s = 0\n",
    "for i in range(1000000):\n",
    "    if is_palindrome(str(i)) and is_palindrome(binary_str(i)):\n",
    "        s += i\n",
    "print(\"Sum of all numbers under 1000000 that is palindromic in base 10 and base 2 is\", s)"
   ]
  }
 ],
 "metadata": {
  "kernelspec": {
   "display_name": "Python 3",
   "language": "python",
   "name": "python3"
  },
  "language_info": {
   "codemirror_mode": {
    "name": "ipython",
    "version": 3
   },
   "file_extension": ".py",
   "mimetype": "text/x-python",
   "name": "python",
   "nbconvert_exporter": "python",
   "pygments_lexer": "ipython3",
   "version": "3.6.1"
  }
 },
 "nbformat": 4,
 "nbformat_minor": 2
}
