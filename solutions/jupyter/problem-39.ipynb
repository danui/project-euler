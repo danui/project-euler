{
 "cells": [
  {
   "cell_type": "markdown",
   "metadata": {},
   "source": [
    "# Problem 39\n",
    "\n",
    "\n",
    "\n",
    "If p is the perimeter of a right angle triangle with integral length sides, {a,b,c}, there are exactly three solutions for p = 120.\n",
    "\n",
    "{20,48,52}, {24,45,51}, {30,40,50}\n",
    "\n",
    "For which value of p ≤ 1000, is the number of solutions maximised?\n"
   ]
  },
  {
   "cell_type": "markdown",
   "metadata": {},
   "source": [
    "## Pythagorean Theorem\n",
    "\n",
    "    a^2 + b^2 = c^2"
   ]
  },
  {
   "cell_type": "code",
   "execution_count": 1,
   "metadata": {
    "collapsed": true
   },
   "outputs": [],
   "source": [
    "import math\n",
    "import time\n",
    "\n",
    "def is_pythagorean(a, b, c):\n",
    "    return (a**2 + b**2) == (c**2)\n",
    "\n",
    "def hypotenuse(a, b):\n",
    "    return math.sqrt(a**2 + b**2)\n",
    "\n",
    "def pythagorean_combos_upto(limit):\n",
    "    for a in range(1,limit+1):\n",
    "        for b in range(a+1,limit+1):\n",
    "            if a+b > limit:\n",
    "                break\n",
    "            c = math.floor(hypotenuse(a,b))\n",
    "            if a+b+c <= limit and is_pythagorean(a, b, c):\n",
    "                yield (a,b,c)\n",
    "\n",
    "def get_perimeter_to_combos(limit):\n",
    "    combos = {}\n",
    "    for (a,b,c) in pythagorean_combos_upto(limit):\n",
    "        perimeter = a + b + c\n",
    "        if perimeter not in combos:\n",
    "            combos[perimeter] = []\n",
    "        combos[perimeter].append((a,b,c))\n",
    "    return combos\n"
   ]
  },
  {
   "cell_type": "code",
   "execution_count": 2,
   "metadata": {},
   "outputs": [
    {
     "name": "stdout",
     "output_type": "stream",
     "text": [
      "Answer: 840\n",
      "Elapsed: 0.6716511249542236\n",
      "Solution Count: 8\n",
      "Solutions: [(40, 399, 401), (56, 390, 394), (105, 360, 375), (120, 350, 370), (140, 336, 364), (168, 315, 357), (210, 280, 350), (240, 252, 348)]\n"
     ]
    }
   ],
   "source": [
    "t0 = time.time()\n",
    "pc = get_perimeter_to_combos(1000)\n",
    "max_k = None\n",
    "for k in pc:\n",
    "    if max_k is None or len(pc[k]) > len(pc[max_k]):\n",
    "        max_k = k\n",
    "t1 = time.time()\n",
    "print('Answer:', max_k)\n",
    "print('Elapsed:', t1-t0)\n",
    "print('Solution Count:', len(pc[max_k]))\n",
    "print('Solutions:', pc[max_k])"
   ]
  },
  {
   "cell_type": "code",
   "execution_count": null,
   "metadata": {
    "collapsed": true
   },
   "outputs": [],
   "source": []
  }
 ],
 "metadata": {
  "kernelspec": {
   "display_name": "Python 3",
   "language": "python",
   "name": "python3"
  },
  "language_info": {
   "codemirror_mode": {
    "name": "ipython",
    "version": 3
   },
   "file_extension": ".py",
   "mimetype": "text/x-python",
   "name": "python",
   "nbconvert_exporter": "python",
   "pygments_lexer": "ipython3",
   "version": "3.6.1"
  }
 },
 "nbformat": 4,
 "nbformat_minor": 2
}
