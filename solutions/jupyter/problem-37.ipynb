{
 "cells": [
  {
   "cell_type": "markdown",
   "metadata": {},
   "source": [
    "# Problem 37\n",
    "\n",
    "\n",
    "\n",
    "The number 3797 has an interesting property. Being prime itself, it is possible to continuously remove digits from left to right, and remain prime at each stage: 3797, 797, 97, and 7. Similarly we can work from right to left: 3797, 379, 37, and 3.\n",
    "\n",
    "Find the sum of the only eleven primes that are both truncatable from left to right and right to left.\n",
    "\n",
    "NOTE: 2, 3, 5, and 7 are not considered to be truncatable primes.\n"
   ]
  },
  {
   "cell_type": "code",
   "execution_count": 1,
   "metadata": {},
   "outputs": [],
   "source": [
    "def primes_upto(n):\n",
    "    \"\"\"\n",
    "    Generator for primes up to n.\n",
    "    For primes under 'n', just use n-1.\n",
    "    \"\"\"\n",
    "    if n < 2:\n",
    "        return\n",
    "    marked = [0] * (n+1);\n",
    "    value = 3\n",
    "    yield 2\n",
    "    while value <= n:\n",
    "        if marked[value] == 0:\n",
    "            yield value\n",
    "            i = value\n",
    "            while i <= n:\n",
    "                marked[i] = 1\n",
    "                i += value\n",
    "        value += 2\n",
    "\n",
    "def is_leftright_truncatable(n, P):\n",
    "    if n not in P:\n",
    "        return False\n",
    "    s = str(n)[1:]\n",
    "    if len(s) == 0:\n",
    "        return True\n",
    "    return is_leftright_truncatable(int(s), P)\n",
    "\n",
    "def is_rightleft_truncatable(n, P):\n",
    "    if n not in P:\n",
    "        return False\n",
    "    s = str(n)[:-1]\n",
    "    if len(s) == 0:\n",
    "        return True\n",
    "    return is_rightleft_truncatable(int(s), P)\n",
    "\n",
    "def is_truncatable_prime(n, P):\n",
    "    if n not in P:\n",
    "        return False\n",
    "    if n < 10:\n",
    "        return False\n",
    "    return is_leftright_truncatable(n,P) and is_rightleft_truncatable(n,P)\n",
    "\n",
    "def truncatable_primes_upto(limit):\n",
    "    P = set(primes_upto(limit))\n",
    "    for i in P:\n",
    "        if is_truncatable_prime(i, P):\n",
    "            yield i"
   ]
  },
  {
   "cell_type": "code",
   "execution_count": 2,
   "metadata": {},
   "outputs": [
    {
     "name": "stdout",
     "output_type": "stream",
     "text": [
      "11\n"
     ]
    }
   ],
   "source": [
    "X = set(truncatable_primes_upto(1000000))\n",
    "print(len(X))"
   ]
  },
  {
   "cell_type": "code",
   "execution_count": 3,
   "metadata": {},
   "outputs": [
    {
     "name": "stdout",
     "output_type": "stream",
     "text": [
      "{3137, 37, 739397, 73, 797, 53, 373, 23, 3797, 313, 317}\n"
     ]
    }
   ],
   "source": [
    "print(X)"
   ]
  },
  {
   "cell_type": "code",
   "execution_count": 4,
   "metadata": {},
   "outputs": [
    {
     "name": "stdout",
     "output_type": "stream",
     "text": [
      "748317\n"
     ]
    }
   ],
   "source": [
    "print(sum(X))"
   ]
  },
  {
   "cell_type": "code",
   "execution_count": null,
   "metadata": {
    "collapsed": true
   },
   "outputs": [],
   "source": []
  }
 ],
 "metadata": {
  "kernelspec": {
   "display_name": "Python 3",
   "language": "python",
   "name": "python3"
  },
  "language_info": {
   "codemirror_mode": {
    "name": "ipython",
    "version": 3
   },
   "file_extension": ".py",
   "mimetype": "text/x-python",
   "name": "python",
   "nbconvert_exporter": "python",
   "pygments_lexer": "ipython3",
   "version": "3.6.1"
  }
 },
 "nbformat": 4,
 "nbformat_minor": 2
}
