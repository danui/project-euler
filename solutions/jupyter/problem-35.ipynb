{
 "cells": [
  {
   "cell_type": "markdown",
   "metadata": {},
   "source": [
    "# Problem 35\n",
    "\n",
    "The number, 197, is called a circular prime because all rotations of the digits: 197, 971, and 719, are themselves prime.\n",
    "\n",
    "There are thirteen such primes below 100: 2, 3, 5, 7, 11, 13, 17, 31, 37, 71, 73, 79, and 97.\n",
    "\n",
    "How many circular primes are there below one million?\n",
    "\n"
   ]
  },
  {
   "cell_type": "code",
   "execution_count": 13,
   "metadata": {
    "collapsed": true
   },
   "outputs": [],
   "source": [
    "import math"
   ]
  },
  {
   "cell_type": "code",
   "execution_count": 47,
   "metadata": {
    "collapsed": true
   },
   "outputs": [],
   "source": [
    "def primes_upto(n):\n",
    "    if n < 2:\n",
    "        return\n",
    "    marked = [0] * (n+1);\n",
    "    value = 3\n",
    "    yield 2\n",
    "    while value <= n:\n",
    "        if marked[value] == 0:\n",
    "            yield value\n",
    "            i = value\n",
    "            while i <= n:\n",
    "                marked[i] = 1\n",
    "                i += value\n",
    "        value += 2\n",
    "\n",
    "def primes_under(n):\n",
    "    return primes_upto(n-1)\n",
    "        \n",
    "def num_digits(n):\n",
    "    if n < 0:\n",
    "        return num_digits(-n)\n",
    "    if n < 10:\n",
    "        return 1\n",
    "    return 1 + num_digits(n//10)\n",
    "        \n",
    "def rotate(n):\n",
    "    right = n % 10\n",
    "    left = n // 10\n",
    "    for _ in range(num_digits(n) - 1):\n",
    "        right *= 10\n",
    "    return right + left\n",
    "\n",
    "def rotations(n):\n",
    "    yield n\n",
    "    x = rotate(n)\n",
    "    while x != n:\n",
    "        yield x\n",
    "        x = rotate(x)\n",
    "\n",
    "def is_circular_prime(n, P):\n",
    "    \"\"\"\n",
    "    @param n Prime number to test.\n",
    "    @param P Set of known primes.\n",
    "    \"\"\"\n",
    "    for i in rotations(n):\n",
    "        if i not in P:\n",
    "            return False\n",
    "    return True\n",
    "\n",
    "def circular_primes(P):\n",
    "    for i in P:\n",
    "        if is_circular_prime(i, P):\n",
    "            yield i"
   ]
  },
  {
   "cell_type": "code",
   "execution_count": 50,
   "metadata": {},
   "outputs": [
    {
     "name": "stdout",
     "output_type": "stream",
     "text": [
      "Number of circular primes under 1000000 is: 55\n"
     ]
    }
   ],
   "source": [
    "P = set(primes_under(1000000))\n",
    "C = set(circular_primes(P))\n",
    "print(\"Number of circular primes under 1000000 is:\", len(C))"
   ]
  },
  {
   "cell_type": "code",
   "execution_count": null,
   "metadata": {
    "collapsed": true
   },
   "outputs": [],
   "source": []
  }
 ],
 "metadata": {
  "kernelspec": {
   "display_name": "Python 3",
   "language": "python",
   "name": "python3"
  },
  "language_info": {
   "codemirror_mode": {
    "name": "ipython",
    "version": 3
   },
   "file_extension": ".py",
   "mimetype": "text/x-python",
   "name": "python",
   "nbconvert_exporter": "python",
   "pygments_lexer": "ipython3",
   "version": "3.6.1"
  }
 },
 "nbformat": 4,
 "nbformat_minor": 2
}
