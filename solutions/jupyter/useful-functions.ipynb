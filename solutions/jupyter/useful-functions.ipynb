{
 "cells": [
  {
   "cell_type": "markdown",
   "metadata": {},
   "source": [
    "# Useful Functions\n"
   ]
  },
  {
   "cell_type": "code",
   "execution_count": 1,
   "metadata": {},
   "outputs": [
    {
     "data": {
      "text/plain": [
       "[2, 3, 5, 7, 11, 13, 17, 19]"
      ]
     },
     "execution_count": 1,
     "metadata": {},
     "output_type": "execute_result"
    }
   ],
   "source": [
    "def primes_upto(n):\n",
    "    \"\"\"\n",
    "    Generator for primes up to n.\n",
    "    For primes under 'n', just use n-1.\n",
    "    \"\"\"\n",
    "    if n < 2:\n",
    "        return\n",
    "    marked = [0] * (n+1);\n",
    "    value = 3\n",
    "    yield 2\n",
    "    while value <= n:\n",
    "        if marked[value] == 0:\n",
    "            yield value\n",
    "            i = value\n",
    "            while i <= n:\n",
    "                marked[i] = 1\n",
    "                i += value\n",
    "        value += 2\n",
    "\n",
    "list(primes_upto(20))"
   ]
  },
  {
   "cell_type": "code",
   "execution_count": 2,
   "metadata": {},
   "outputs": [
    {
     "name": "stdout",
     "output_type": "stream",
     "text": [
      "255 in base 2 has 8 digits.\n",
      "255 in base 8 has 3 digits.\n",
      "255 in base 10 has 3 digits.\n",
      "255 in base 16 has 2 digits.\n"
     ]
    }
   ],
   "source": [
    "def num_digits(n, base=10):\n",
    "    \"\"\"\n",
    "    Number of digits for the number 'n' given some 'base'.\n",
    "    \"\"\"\n",
    "    if n < 0:\n",
    "        return num_digits(-n, base)\n",
    "    if n < base:\n",
    "        return 1\n",
    "    return 1 + num_digits(n//base, base)\n",
    "\n",
    "for b in [2, 8, 10, 16]:\n",
    "    print(\"255 in base %d has %d digits.\"%(b, num_digits(255, b)))"
   ]
  },
  {
   "cell_type": "code",
   "execution_count": null,
   "metadata": {
    "collapsed": true
   },
   "outputs": [],
   "source": []
  }
 ],
 "metadata": {
  "kernelspec": {
   "display_name": "Python 3",
   "language": "python",
   "name": "python3"
  },
  "language_info": {
   "codemirror_mode": {
    "name": "ipython",
    "version": 3
   },
   "file_extension": ".py",
   "mimetype": "text/x-python",
   "name": "python",
   "nbconvert_exporter": "python",
   "pygments_lexer": "ipython3",
   "version": "3.6.1"
  }
 },
 "nbformat": 4,
 "nbformat_minor": 2
}
