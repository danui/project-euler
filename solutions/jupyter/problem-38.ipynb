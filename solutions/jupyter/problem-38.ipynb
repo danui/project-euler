{
 "cells": [
  {
   "cell_type": "markdown",
   "metadata": {},
   "source": [
    "# Probem 38\n",
    "\n",
    "\n",
    "\n",
    "Take the number 192 and multiply it by each of 1, 2, and 3:\n",
    "\n",
    "    192 × 1 = 192\n",
    "    192 × 2 = 384\n",
    "    192 × 3 = 576\n",
    "\n",
    "By concatenating each product we get the 1 to 9 pandigital, 192384576. We will call 192384576 the concatenated product of 192 and (1,2,3)\n",
    "\n",
    "The same can be achieved by starting with 9 and multiplying by 1, 2, 3, 4, and 5, giving the pandigital, 918273645, which is the concatenated product of 9 and (1,2,3,4,5).\n",
    "\n",
    "What is the largest 1 to 9 pandigital 9-digit number that can be formed as the concatenated product of an integer with (1,2, ... , n) where n > 1?\n"
   ]
  },
  {
   "cell_type": "code",
   "execution_count": 1,
   "metadata": {
    "collapsed": true
   },
   "outputs": [],
   "source": [
    "def concatenated_product(x, n):\n",
    "    return int(''.join([str(x*i) for i in range(1,n+1)]))\n",
    "\n",
    "def is_pandigital(x):\n",
    "    if x > 987654321:\n",
    "        return False\n",
    "    if x < 123456789:\n",
    "        return False\n",
    "    return set(str(x)) == {'1','2','3','4','5','6','7','8','9'}\n",
    "\n",
    "def search(limit):\n",
    "    for x in range(limit, 0, -1): # Scan from big to small since we're looking for max\n",
    "        for n in range(2,10):\n",
    "            y = concatenated_product(x, n)\n",
    "            if is_pandigital(y):\n",
    "                return y\n",
    "            elif y > 987654321:\n",
    "                break # try the next x\n",
    "                "
   ]
  },
  {
   "cell_type": "code",
   "execution_count": 2,
   "metadata": {},
   "outputs": [],
   "source": [
    "assert concatenated_product(192, 3) == 192384576\n",
    "assert concatenated_product(9, 5) == 918273645\n",
    "assert is_pandigital(123456789)\n",
    "assert is_pandigital(987654321)\n",
    "assert not is_pandigital(1234)"
   ]
  },
  {
   "cell_type": "markdown",
   "metadata": {},
   "source": [
    "The limit has to contain unique digits because when x is that value it becomes the frist digits of the pandigital number candidate.\n",
    "\n",
    "Next since n is at least 2, we just need to find a number x=987... such that the total number of digits in `x*1` and `x*2` is 9.\n",
    "\n",
    "`9876 || (9876*2)==19752` is 9 digits. So 9876 is a good limit."
   ]
  },
  {
   "cell_type": "code",
   "execution_count": 3,
   "metadata": {},
   "outputs": [
    {
     "name": "stdout",
     "output_type": "stream",
     "text": [
      "Answer: 932718654\n"
     ]
    }
   ],
   "source": [
    "print('Answer:', search(9876))"
   ]
  },
  {
   "cell_type": "code",
   "execution_count": null,
   "metadata": {
    "collapsed": true
   },
   "outputs": [],
   "source": []
  }
 ],
 "metadata": {
  "kernelspec": {
   "display_name": "Python 3",
   "language": "python",
   "name": "python3"
  },
  "language_info": {
   "codemirror_mode": {
    "name": "ipython",
    "version": 3
   },
   "file_extension": ".py",
   "mimetype": "text/x-python",
   "name": "python",
   "nbconvert_exporter": "python",
   "pygments_lexer": "ipython3",
   "version": "3.6.1"
  }
 },
 "nbformat": 4,
 "nbformat_minor": 2
}
