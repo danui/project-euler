{
 "cells": [
  {
   "cell_type": "markdown",
   "metadata": {},
   "source": [
    "# Problem 33\n",
    "\n",
    "https://projecteuler.net/problem=33\n",
    "\n",
    "The fraction 49/98 is a curious fraction, as an inexperienced mathematician in attempting to simplify it may incorrectly belive that 49/98 = 4/8, which is correct, is obtained by cancelling the 9s.\n",
    "\n",
    "We shall consider fractions like, 30/50 = 3/5, to be trivial examples.\n",
    "\n",
    "There are exactly four non-trivial examples of this type of faction, less than one in value, and containing two digits in the numerator and denominator.\n",
    "\n",
    "If the product of these four fractions is given in its lowest common terms, find the value of the denominator."
   ]
  },
  {
   "cell_type": "markdown",
   "metadata": {},
   "source": [
    "## Notes\n",
    "\n",
    "- Point-1: There are 4 non-trivial examples.\n",
    "- Point-2: Less than one in value. That means numerator is less than the denominator.\n",
    "- Point-3: They contain two digits in the numerator and denominator.\n",
    "- Point-4: They are of the form `ax/xb == a/b` or `xa/bx == a/b`; where `a`, `b`, and `x` are digits 0-9.\n",
    "- Point-5: When in the `ax/xb` form, `a<=x` because of point 2, and when `a==x`, `x<b`.\n",
    "- Point-6: When in the `xa/bx` form,...\n",
    "- Point-7: There are only 3 unknown digits. We can brute force all `10^3` possibilities."
   ]
  },
  {
   "cell_type": "code",
   "execution_count": 1,
   "metadata": {
    "collapsed": true
   },
   "outputs": [],
   "source": [
    "import math\n",
    "def classify(a, b, x):\n",
    "    if a == b:\n",
    "        return None # trivial example\n",
    "    a = float(a)\n",
    "    b = float(b)\n",
    "    x = float(x)\n",
    "    if a > 0 and x > 0 and b > 0:\n",
    "        n = a*10+x\n",
    "        d = x*10+b\n",
    "        if n < d and math.isclose(n/d, a/b):\n",
    "            return 'ax/xb'\n",
    "    if x > 0 and b > 0:\n",
    "        n = x*10+a\n",
    "        d = b*10+x\n",
    "        if n < d and math.isclose(n/d, a/b):\n",
    "            return 'xa/bx'\n",
    "    return None"
   ]
  },
  {
   "cell_type": "code",
   "execution_count": 2,
   "metadata": {},
   "outputs": [
    {
     "data": {
      "text/plain": [
       "'ax/xb'"
      ]
     },
     "execution_count": 2,
     "metadata": {},
     "output_type": "execute_result"
    }
   ],
   "source": [
    "classify(4, 8, 9)"
   ]
  },
  {
   "cell_type": "code",
   "execution_count": 3,
   "metadata": {
    "collapsed": true
   },
   "outputs": [],
   "source": [
    "classify(3, 5, 0)"
   ]
  },
  {
   "cell_type": "code",
   "execution_count": 4,
   "metadata": {},
   "outputs": [
    {
     "name": "stdout",
     "output_type": "stream",
     "text": [
      "a=1, b=4, x=6, classification: ax/xb\n",
      "a=1, b=5, x=9, classification: ax/xb\n",
      "a=2, b=5, x=6, classification: ax/xb\n",
      "a=4, b=8, x=9, classification: ax/xb\n"
     ]
    },
    {
     "data": {
      "text/plain": [
       "[array([16, 64]), array([19, 95]), array([26, 65]), array([49, 98])]"
      ]
     },
     "execution_count": 4,
     "metadata": {},
     "output_type": "execute_result"
    }
   ],
   "source": [
    "import numpy as np\n",
    "def find_curious_functions():\n",
    "    for a in range(10):\n",
    "        for b in range(10):\n",
    "            for x in range(10):\n",
    "                c = classify(a, b, x)\n",
    "                if c is not None:\n",
    "                    print('a={}, b={}, x={}, classification: {}'.format(\n",
    "                        a, b, x, c))\n",
    "                if c == 'ax/xb':\n",
    "                    yield np.array([a*10+x, x*10+b])\n",
    "                if x == 'xa/bx':\n",
    "                    yield np.array([x*10+a, b*10+x])\n",
    "curious_fractions = list(find_curious_functions())\n",
    "curious_fractions"
   ]
  },
  {
   "cell_type": "code",
   "execution_count": 5,
   "metadata": {},
   "outputs": [
    {
     "data": {
      "text/plain": [
       "array([  387296, 38729600])"
      ]
     },
     "execution_count": 5,
     "metadata": {},
     "output_type": "execute_result"
    }
   ],
   "source": [
    "v = np.array([1,1])\n",
    "for i in curious_fractions:\n",
    "    v *= i\n",
    "v"
   ]
  },
  {
   "cell_type": "markdown",
   "metadata": {},
   "source": [
    "We could use GCD to simplify the fraction to its lowest common terms, but this is quite straightforward. The denominator is exactly 100 times the numerator. Therefore the answer is **100**."
   ]
  }
 ],
 "metadata": {
  "kernelspec": {
   "display_name": "Python 3",
   "language": "python",
   "name": "python3"
  },
  "language_info": {
   "codemirror_mode": {
    "name": "ipython",
    "version": 3
   },
   "file_extension": ".py",
   "mimetype": "text/x-python",
   "name": "python",
   "nbconvert_exporter": "python",
   "pygments_lexer": "ipython3",
   "version": "3.6.1"
  }
 },
 "nbformat": 4,
 "nbformat_minor": 2
}
