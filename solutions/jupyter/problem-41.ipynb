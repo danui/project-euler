{
 "cells": [
  {
   "cell_type": "markdown",
   "metadata": {},
   "source": [
    "# Problem 41\n",
    "\n",
    "\n",
    "\n",
    "We shall say that an n-digit number is pandigital if it makes use of all the digits 1 to n exactly once. For example, 2143 is a 4-digit pandigital and is also prime.\n",
    "\n",
    "What is the largest n-digit pandigital prime that exists?\n"
   ]
  },
  {
   "cell_type": "code",
   "execution_count": 1,
   "metadata": {},
   "outputs": [],
   "source": [
    "import time\n",
    "import itertools\n",
    "\n",
    "def is_prime(n):\n",
    "    if n <= 1:\n",
    "        return False\n",
    "    elif n <= 3:\n",
    "        return True\n",
    "    elif (n%2)==0 or (n%3)==0:\n",
    "        return False\n",
    "    else:\n",
    "        i = 5\n",
    "        while (i*i) <= n:\n",
    "            if (n%i)==0 or (n%(i+2))==0:\n",
    "                return False\n",
    "            i += 6\n",
    "        return True\n",
    "\n",
    "def pandigitals():\n",
    "    digits = [9,8,7,6,5,4,3,2,1]\n",
    "    for n in range(9,0,-1):\n",
    "        for p in itertools.permutations(digits):\n",
    "            x = 0\n",
    "            for d in p:\n",
    "                x = x*10 + d\n",
    "            yield x\n",
    "        digits.remove(n)\n",
    "\n",
    "def prime_pandigitals():\n",
    "    for p in pandigitals():\n",
    "        if is_prime(p):\n",
    "            yield p\n",
    "\n",
    "def num_digits(n, base=10):\n",
    "    \"\"\"\n",
    "    Number of digits for the number 'n' given some 'base'.\n",
    "    \"\"\"\n",
    "    if n < 0:\n",
    "        return num_digits(-n, base)\n",
    "    if n < base:\n",
    "        return 1\n",
    "    return 1 + num_digits(n//base, base)\n",
    "\n",
    "def search():\n",
    "    last = None\n",
    "    num_digits_in_last = None    \n",
    "    for p in prime_pandigitals():\n",
    "        if last is None or p > last:\n",
    "            last = p\n",
    "            num_digits_in_last = num_digits(last)\n",
    "        elif num_digits(p) < num_digits_in_last:\n",
    "            return last\n",
    "    return last\n"
   ]
  },
  {
   "cell_type": "code",
   "execution_count": 2,
   "metadata": {},
   "outputs": [
    {
     "name": "stdout",
     "output_type": "stream",
     "text": [
      "Answer: 7652413\n",
      "Elapsed: 0.9000570774078369\n"
     ]
    }
   ],
   "source": [
    "import time\n",
    "t0 = time.time()\n",
    "print('Answer:', search())\n",
    "t1 = time.time()\n",
    "print('Elapsed:', t1-t0)"
   ]
  },
  {
   "cell_type": "code",
   "execution_count": null,
   "metadata": {
    "collapsed": true
   },
   "outputs": [],
   "source": []
  }
 ],
 "metadata": {
  "kernelspec": {
   "display_name": "Python 3",
   "language": "python",
   "name": "python3"
  },
  "language_info": {
   "codemirror_mode": {
    "name": "ipython",
    "version": 3
   },
   "file_extension": ".py",
   "mimetype": "text/x-python",
   "name": "python",
   "nbconvert_exporter": "python",
   "pygments_lexer": "ipython3",
   "version": "3.6.1"
  }
 },
 "nbformat": 4,
 "nbformat_minor": 2
}
