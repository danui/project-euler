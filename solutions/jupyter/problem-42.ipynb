{
 "cells": [
  {
   "cell_type": "markdown",
   "metadata": {},
   "source": [
    "# Problem 42\n",
    "\n",
    "\n",
    "\n",
    "The nth term of the sequence of triangle numbers is given by, tn = ½n(n+1); so the first ten triangle numbers are:\n",
    "\n",
    "1, 3, 6, 10, 15, 21, 28, 36, 45, 55, ...\n",
    "\n",
    "By converting each letter in a word to a number corresponding to its alphabetical position and adding these values we form a word value. For example, the word value for SKY is 19 + 11 + 25 = 55 = t10. If the word value is a triangle number then we shall call the word a triangle word.\n",
    "\n",
    "Using words.txt (right click and 'Save Link/Target As...'), a 16K text file containing nearly two-thousand common English words, how many are triangle words?\n"
   ]
  },
  {
   "cell_type": "code",
   "execution_count": 2,
   "metadata": {},
   "outputs": [],
   "source": [
    "_alphabet_value = {}\n",
    "for i in list('ABCDEFGHIJKLMNOPQRSTUVWXYZ'):\n",
    "    _alphabet_value[i] = len(_alphabet_value)+1\n",
    "\n",
    "def alphabet_value(alphabet):\n",
    "    return _alphabet_value[alphabet]\n",
    "    \n",
    "def word_value(word):\n",
    "    return sum([alphabet_value(i) for i in list(word.upper())])\n",
    "\n",
    "def calculate_triangle_number(n):\n",
    "    return n * (n+1) / 2\n",
    "\n",
    "_triangle_numbers = set([1])\n",
    "def is_triangle_number(t):\n",
    "    while max(_triangle_numbers) < t:\n",
    "        n = len(_triangle_numbers) + 1\n",
    "        _triangle_numbers.add(calculate_triangle_number(n))\n",
    "    return t in _triangle_numbers\n",
    "\n",
    "def count_triangle_words(word_list):\n",
    "    count = 0\n",
    "    for word in word_list:\n",
    "        if is_triangle_number(word_value(word)):\n",
    "            count += 1\n",
    "    return count"
   ]
  },
  {
   "cell_type": "code",
   "execution_count": 3,
   "metadata": {},
   "outputs": [
    {
     "name": "stdout",
     "output_type": "stream",
     "text": [
      "Answer: 162\n",
      "Elapsed: 0.017287015914916992\n"
     ]
    }
   ],
   "source": [
    "import time\n",
    "import requests\n",
    "response = requests.get('https://projecteuler.net/project/resources/p042_words.txt')\n",
    "words = map(lambda w: w[1:-1], response.text.split(','))\n",
    "t0 = time.time()\n",
    "ans = count_triangle_words(words)\n",
    "t1 = time.time()\n",
    "print('Answer:', ans)\n",
    "print('Elapsed:', t1-t0)"
   ]
  },
  {
   "cell_type": "code",
   "execution_count": null,
   "metadata": {
    "collapsed": true
   },
   "outputs": [],
   "source": []
  }
 ],
 "metadata": {
  "kernelspec": {
   "display_name": "Python 3",
   "language": "python",
   "name": "python3"
  },
  "language_info": {
   "codemirror_mode": {
    "name": "ipython",
    "version": 3
   },
   "file_extension": ".py",
   "mimetype": "text/x-python",
   "name": "python",
   "nbconvert_exporter": "python",
   "pygments_lexer": "ipython3",
   "version": "3.6.1"
  }
 },
 "nbformat": 4,
 "nbformat_minor": 2
}
