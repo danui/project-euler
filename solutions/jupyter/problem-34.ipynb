{
 "cells": [
  {
   "cell_type": "markdown",
   "metadata": {},
   "source": [
    "# Problem 34\n",
    "\n",
    "https://projecteuler.net/problem=34\n",
    "\n",
    "145 is a curious number, as 1! + 4! + 5! = 1 + 24 + 120 = 145.\n",
    "\n",
    "Find the sum of all numbers which are equal to the sum of the factorial of their digits.\n",
    "\n",
    "Note: as 1! = 1 and 2! = 2 are not sums they are not included."
   ]
  },
  {
   "cell_type": "markdown",
   "metadata": {},
   "source": [
    "## Brute force\n",
    "\n",
    "We can brute force this by iterating numbers 10 and above, breaking them down into their component digits, and summing up their factorials. The challenge here is when to stop. My hunch is that we can stop once the sum of the factorials is greater than the original number.\n",
    "\n",
    "Hmm... Okay, my hunch is wrong. 9! is 362880. Therefore 1! + 9! > 19. If we had stopped here we would never find 145."
   ]
  },
  {
   "cell_type": "code",
   "execution_count": 247,
   "metadata": {},
   "outputs": [
    {
     "data": {
      "text/plain": [
       "array(362880.0)"
      ]
     },
     "execution_count": 247,
     "metadata": {},
     "output_type": "execute_result"
    }
   ],
   "source": [
    "from scipy.special import factorial\n",
    "factorial(9)"
   ]
  },
  {
   "cell_type": "code",
   "execution_count": 248,
   "metadata": {},
   "outputs": [
    {
     "data": {
      "text/plain": [
       "6"
      ]
     },
     "execution_count": 248,
     "metadata": {},
     "output_type": "execute_result"
    }
   ],
   "source": [
    "def fac(n):\n",
    "    return int(factorial(n))\n",
    "fac(3)"
   ]
  },
  {
   "cell_type": "code",
   "execution_count": 249,
   "metadata": {},
   "outputs": [
    {
     "name": "stdout",
     "output_type": "stream",
     "text": [
      "145\n",
      "40585\n"
     ]
    }
   ],
   "source": [
    "import numpy as np\n",
    "N = 100000\n",
    "for i in range(10, N+1):\n",
    "    digits = list(''+str(i))\n",
    "    factorials = list(map(lambda x: fac(int(x)), digits))\n",
    "    summation = np.sum(factorials)\n",
    "    #print('{} -> {} -> sum {}'.format(i, factorials, summation))\n",
    "    if i == summation:\n",
    "        print(i)"
   ]
  },
  {
   "cell_type": "markdown",
   "metadata": {},
   "source": [
    "Brute force in the manner above is too slow. We can do better. For example we can save the result of the summations.\n",
    "\n",
    "I think there's a better way..."
   ]
  },
  {
   "cell_type": "markdown",
   "metadata": {},
   "source": [
    "## Take 2\n",
    "\n",
    "Firstly we only need factorials for digits 0 to 9. It's much faster to lookup an array than to execute scipy's factorial function every time."
   ]
  },
  {
   "cell_type": "code",
   "execution_count": null,
   "metadata": {
    "collapsed": true
   },
   "outputs": [],
   "source": [
    "from scipy.special import factorial\n",
    "def create_fac():\n",
    "    factorials = [int(factorial(i)) for i in range(10)]\n",
    "    def f(x):\n",
    "        return factorials[x]\n",
    "    return f\n",
    "fac = create_fac()"
   ]
  },
  {
   "cell_type": "code",
   "execution_count": null,
   "metadata": {
    "collapsed": true
   },
   "outputs": [],
   "source": [
    "time fac(9)"
   ]
  },
  {
   "cell_type": "code",
   "execution_count": null,
   "metadata": {
    "collapsed": true
   },
   "outputs": [],
   "source": [
    "time factorial(9)"
   ]
  },
  {
   "cell_type": "code",
   "execution_count": null,
   "metadata": {
    "collapsed": true
   },
   "outputs": [],
   "source": [
    "import numpy as np\n",
    "def dfs(chain, max_length):\n",
    "    concat_value = 0\n",
    "    for i in chain:\n",
    "        concat_value *= 10\n",
    "        concat_value += i\n",
    "    fac_sum = sum(map(lambda x: fac(x), chain))\n",
    "    #print(concat_value, fac_sum)\n",
    "    if fac_sum == concat_value and len(chain) >= 2:\n",
    "        yield concat_value\n",
    "    if len(chain) < max_length:\n",
    "        if len(chain) == 0:\n",
    "            lo = 1\n",
    "        else:\n",
    "            lo = 0\n",
    "        for i in range(lo, 10):\n",
    "            for x in dfs(chain + [i], max_length):\n",
    "                yield x\n"
   ]
  },
  {
   "cell_type": "code",
   "execution_count": null,
   "metadata": {
    "collapsed": true
   },
   "outputs": [],
   "source": [
    "print(sum(map(lambda x: fac(x), [1,4,5])))"
   ]
  },
  {
   "cell_type": "code",
   "execution_count": null,
   "metadata": {
    "collapsed": true
   },
   "outputs": [],
   "source": [
    "list(dfs([],5))"
   ]
  },
  {
   "cell_type": "markdown",
   "metadata": {},
   "source": [
    "I have no idea where take 2 is going."
   ]
  },
  {
   "cell_type": "markdown",
   "metadata": {},
   "source": [
    "## Thinking in terms of multi sets\n",
    "\n",
    "Observe that the sum of factorials for 145 is the same as the sum of factorials for any permutation of those digits. 541, 154, etc.\n",
    "\n",
    "Let the notation `{1145}` denote a multi set of digits 1, 1, 4, and 5. For clarity, we will always list the smaller digits first. Also, since it is a multi set, repeated digits are allowed. For example, the repeated 1s in `{1145}`.\n",
    "\n",
    "Let the function F(x) map a multi set x into a sum of factorials, as per the definition in problem 34.\n",
    "\n",
    "Let the function M(y) map a number y into a multi set corresponding to its digits. For example `M(123) == M(321)`.\n",
    "\n",
    "Using this notation we can say the following about 145.\n",
    "\n",
    "    F(M(145)) == 145\n",
    "\n",
    "Generalizing, we can rephrase problem 34 as finding all values y such that `F(M(y)) == y`. \n",
    "\n",
    "Observe that `M(123)` is the same as `M(321)`. That is, a single multi set maps from multiple numbers. A many to one mapping. Another way to put this is to say that a multi set maps to one or more numbers. Given this, and that we are searching for factorial sums over multi sets, it makes more sense to search the space of multi sets than to search the space of numbers. \n",
    "\n",
    "Observe that given a multi set, there is exactly one factorial sum. Then we can evaluate if **that sum** is a curious number by computing its multi set. Therefore we can rephrase the problem in terms of multi sets as follows. This form is better suited for searching the space of multi sets. \n",
    "\n",
    "    M(F(x)) == x\n",
    "\n",
    "The next piece of the puzzle is how to navigate the space of multi sets in an efficient manner. Also, how would we know when to stop?"
   ]
  },
  {
   "cell_type": "markdown",
   "metadata": {},
   "source": [
    "## Vector representation for multi sets\n",
    "\n",
    "Since the only set members in our multi sets are digits, we can represent our multi sets as vectors of digit counts. For example the multi set `{1145}` would be a vector `[0,2,0,0,1,1,0,0,0,0]`.\n",
    "\n",
    "**Note:** The count at the 0-th position of the vector is also important because `0! == 1`.\n",
    "\n",
    "Multi set equality using this notation is when two vectors have the same count at each digit position. In Python you can directly use the `==` operator."
   ]
  },
  {
   "cell_type": "markdown",
   "metadata": {},
   "source": [
    "## Code"
   ]
  },
  {
   "cell_type": "code",
   "execution_count": 2,
   "metadata": {
    "collapsed": true
   },
   "outputs": [],
   "source": [
    "# Define `fac(n)` function that returns the factorial of `n`.\n",
    "# For values of n in 0..9. We precalculate the factorials\n",
    "# since those are the only factorials we will need to solve\n",
    "# this problem.\n",
    "from scipy.special import factorial\n",
    "def create_fac():\n",
    "    factorials = [int(factorial(i)) for i in range(10)]\n",
    "    def f(x):\n",
    "        return factorials[x]\n",
    "    return f\n",
    "fac = create_fac()"
   ]
  },
  {
   "cell_type": "code",
   "execution_count": 3,
   "metadata": {
    "collapsed": true
   },
   "outputs": [],
   "source": [
    "# Define F(v) where v is a multiset in vector form.\n",
    "def F(v):\n",
    "    assert len(v) == 10\n",
    "    s = 0\n",
    "    for i in range(10):\n",
    "        s += fac(i) * v[i]\n",
    "    return s"
   ]
  },
  {
   "cell_type": "code",
   "execution_count": 4,
   "metadata": {
    "collapsed": true
   },
   "outputs": [],
   "source": [
    "# The following assertion should pass.\n",
    "assert F([0,1,0,0,1,1,0,0,0,0]) == 145\n",
    "assert F([1,0,0,0,1,2,0,0,1,0]) == 40585"
   ]
  },
  {
   "cell_type": "code",
   "execution_count": 5,
   "metadata": {
    "collapsed": true
   },
   "outputs": [],
   "source": [
    "# Vector equality works in python\n",
    "assert [0,1,0,0,1,1,0,0,0,0] == [0,1,0,0,1,1,0,0,0,0]\n",
    "assert [1,1,0,0,0,0,0,0,0,0] != [0,0,0,0,0,0,0,0,1,1]"
   ]
  },
  {
   "cell_type": "code",
   "execution_count": 6,
   "metadata": {
    "collapsed": true
   },
   "outputs": [],
   "source": [
    "# Define M(k) that converts a number k into a multiset vector.\n",
    "def M(k):\n",
    "    v = [0] * 10\n",
    "    while k > 0:\n",
    "        r = k % 10\n",
    "        k = k // 10\n",
    "        v[r] += 1\n",
    "    return v"
   ]
  },
  {
   "cell_type": "code",
   "execution_count": 7,
   "metadata": {
    "collapsed": true
   },
   "outputs": [],
   "source": [
    "# The following assertions about M(k) should pass.\n",
    "assert M(145) == [0,1,0,0,1,1,0,0,0,0]\n",
    "assert M(541) == [0,1,0,0,1,1,0,0,0,0]\n",
    "assert M(5141) == [0,2,0,0,1,1,0,0,0,0]\n",
    "assert M(40585) == [1,0,0,0,1,2,0,0,1,0]"
   ]
  },
  {
   "cell_type": "code",
   "execution_count": 8,
   "metadata": {
    "collapsed": true
   },
   "outputs": [],
   "source": [
    "# Assertions to test relationships mentioned in the design.\n",
    "assert F(M(145)) == 145\n",
    "assert M(F([0,1,0,0,1,1,0,0,0,0])) == [0,1,0,0,1,1,0,0,0,0]"
   ]
  },
  {
   "cell_type": "markdown",
   "metadata": {},
   "source": [
    "## A list of factorials"
   ]
  },
  {
   "cell_type": "code",
   "execution_count": 9,
   "metadata": {},
   "outputs": [
    {
     "name": "stdout",
     "output_type": "stream",
     "text": [
      "0! = 1\n",
      "1! = 1\n",
      "2! = 2\n",
      "3! = 6\n",
      "4! = 24\n",
      "5! = 120\n",
      "6! = 720\n",
      "7! = 5040\n",
      "8! = 40320\n",
      "9! = 362880\n"
     ]
    }
   ],
   "source": [
    "for i in range(10):\n",
    "    print('{}! = {}'.format(i, fac(i)))"
   ]
  },
  {
   "cell_type": "markdown",
   "metadata": {},
   "source": [
    "## Chaining factorials\n",
    "\n",
    "Seed with a number in the first cell below. Then keep refreshing the second cell below. Seems like there is a loop. ..., 169, 363601, 1454, 169, ..."
   ]
  },
  {
   "cell_type": "code",
   "execution_count": 251,
   "metadata": {
    "collapsed": true
   },
   "outputs": [],
   "source": [
    "v = M(170)"
   ]
  },
  {
   "cell_type": "code",
   "execution_count": 264,
   "metadata": {},
   "outputs": [
    {
     "name": "stdout",
     "output_type": "stream",
     "text": [
      "F(v) = 169, M(F(v)) = [0, 1, 0, 0, 0, 0, 1, 0, 0, 1]\n"
     ]
    }
   ],
   "source": [
    "print('F(v) = {}, M(F(v)) = {}'.format(F(v), M(F(v))))\n",
    "v = M(F(v))"
   ]
  },
  {
   "cell_type": "markdown",
   "metadata": {},
   "source": [
    "## Chaining factorials 2\n",
    "\n",
    "Rather than refreshing, let's just print the chains."
   ]
  },
  {
   "cell_type": "code",
   "execution_count": 265,
   "metadata": {},
   "outputs": [
    {
     "name": "stdout",
     "output_type": "stream",
     "text": [
      "Chain 160 -> 169: [160, 722, 5044, 169, 363601, 1454]\n",
      "Chain 161 -> 169: [161, 722, 5044, 169, 363601, 1454]\n",
      "Chain 162 -> 169: [162, 723, 5048, 40465, 889, 443520, 177, 10081, 40324, 57, 5160, 842, 40346, 775, 10200, 6, 720, 5043, 151, 122, 5, 120, 4, 24, 26, 722, 5044, 169, 363601, 1454]\n",
      "Chain 163 -> 169: [163, 727, 10082, 40325, 153, 127, 5043, 151, 122, 5, 120, 4, 24, 26, 722, 5044, 169, 363601, 1454]\n",
      "Chain 164 -> 169: [164, 745, 5184, 40465, 889, 443520, 177, 10081, 40324, 57, 5160, 842, 40346, 775, 10200, 6, 720, 5043, 151, 122, 5, 120, 4, 24, 26, 722, 5044, 169, 363601, 1454]\n",
      "Chain 165 -> 169: [165, 841, 40345, 175, 5161, 842, 40346, 775, 10200, 6, 720, 5043, 151, 122, 5, 120, 4, 24, 26, 722, 5044, 169, 363601, 1454]\n",
      "Chain 166 -> 169: [166, 1441, 50, 121, 4, 24, 26, 722, 5044, 169, 363601, 1454]\n",
      "Chain 167 -> 169: [167, 5761, 5881, 80761, 46082, 41067, 5786, 46200, 748, 45384, 40494, 362953, 363734, 5802, 40443, 79, 367920, 368649, 404670, 5810, 40442, 75, 5160, 842, 40346, 775, 10200, 6, 720, 5043, 151, 122, 5, 120, 4, 24, 26, 722, 5044, 169, 363601, 1454]\n",
      "Chain 168 -> 169: [168, 41041, 51, 121, 4, 24, 26, 722, 5044, 169, 363601, 1454]\n"
     ]
    }
   ],
   "source": [
    "for number in range(160,169):\n",
    "    first_number = number\n",
    "    known = set()\n",
    "    chain = list()\n",
    "    while number not in known:\n",
    "        vector = M(number)\n",
    "        factorial_sum = F(vector)\n",
    "        #print('Number: {} -> {} -> {}'.format(number, vector, factorial_sum))\n",
    "        known.add(number)\n",
    "        chain.append(number)\n",
    "        number = factorial_sum\n",
    "    repeated_number = number\n",
    "    #print('Number: {}'.format(number))\n",
    "    print('Chain {} -> {}: {}'.format(first_number, repeated_number, chain))"
   ]
  },
  {
   "cell_type": "markdown",
   "metadata": {},
   "source": [
    "## Let's brute force again\n",
    "\n",
    "The first cell initializes the search space. `known_number` records the numbers we have found so far. `lo` and `hi` are updated by the second cell after searching each region."
   ]
  },
  {
   "cell_type": "code",
   "execution_count": 226,
   "metadata": {
    "collapsed": true
   },
   "outputs": [],
   "source": [
    "known_numbers = list()\n",
    "lo = 10\n",
    "hi = 100000"
   ]
  },
  {
   "cell_type": "code",
   "execution_count": 246,
   "metadata": {},
   "outputs": [
    {
     "name": "stdout",
     "output_type": "stream",
     "text": [
      "Curious number: 145\n",
      "Curious number: 40585\n",
      "hi=4400000\n",
      "sum of known numbers: 40730\n"
     ]
    }
   ],
   "source": [
    "for number in known_numbers:\n",
    "    print('Curious number: {}'.format(number))\n",
    "for number in range(lo, hi):\n",
    "    if F(M(number)) == number:\n",
    "        print('Curious number: {}'.format(number))\n",
    "        known_numbers.append(number)\n",
    "print('hi={}'.format(hi))\n",
    "print('sum of known numbers: {}'.format(sum(known_numbers)))\n",
    "lo = hi\n",
    "hi += 100000"
   ]
  },
  {
   "cell_type": "markdown",
   "metadata": {},
   "source": [
    "## Is 40730 it?\n",
    "\n",
    "Yes! There were only two numbers all along. 145 and 40585. /facepalm\n",
    "\n",
    "These numbers are called factorian.\n",
    "\n",
    "http://mathworld.wolfram.com/Factorion.html\n",
    "\n",
    "There are only 4 of them. 1! and 2! are excluded by the specification of this problem. So the answer was the sum of the other two: 145 and 40585."
   ]
  }
 ],
 "metadata": {
  "kernelspec": {
   "display_name": "Python 3",
   "language": "python",
   "name": "python3"
  },
  "language_info": {
   "codemirror_mode": {
    "name": "ipython",
    "version": 3
   },
   "file_extension": ".py",
   "mimetype": "text/x-python",
   "name": "python",
   "nbconvert_exporter": "python",
   "pygments_lexer": "ipython3",
   "version": "3.6.1"
  }
 },
 "nbformat": 4,
 "nbformat_minor": 2
}
