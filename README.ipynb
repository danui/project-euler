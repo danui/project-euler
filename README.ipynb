{
 "cells": [
  {
   "cell_type": "markdown",
   "metadata": {},
   "source": [
    "# project-euler\n",
    "\n",
    "[Project Euler](http://projecteuler.net/problems)\n",
    "\n",
    "    http://projecteuler.net/problems\n",
    "\n",
    "----------------------------------------------------------------------\n",
    "## Python Code\n",
    "\n",
    "Python code can be found in solutions/python\n",
    "\n",
    "Run Python code as follows; e.g. Problem 1\n",
    "\n",
    "    $ python problem-1.py\n",
    "\n",
    "----------------------------------------------------------------------\n",
    "## C Code\n",
    "\n",
    "C code can be found in solutions/c.  The Scons build-system is used.\n",
    "\n",
    "    http://www.scons.org/\n",
    "\n",
    "Build everything as follows.\n",
    "\n",
    "    $ scons\n",
    "\n",
    "Run C programs as follows; e.g. Problem 8\n",
    "\n",
    "    $ ./out/problem-8\n",
    "\n",
    "----------------------------------------------------------------------\n",
    "## Java Code\n",
    "\n",
    "Java code can be found in solutions/java.  The maven build-system is used.\n",
    "\n",
    "    $ mvn package\n",
    "\n",
    "A single executable Fat JAR would be built.  Provide it with the problem\n",
    "names to execute.  Problem 24, for example, would be executed as\n",
    "follows.\n",
    "\n",
    "    $ java -jar target/euler.jar 24\n",
    "    Problem 24 completed in 0 milliseconds. Answer is 2783915460\n",
    "\n",
    "----------------------------------------------------------------------\n",
    "## Jupyter Notebooks\n",
    "\n",
    "Jupyter Notebook can be found in solutions/jupyter. You can start the\n",
    "Jupyter Notebook server as follows:\n",
    "\n",
    "    $ jupyter notebook\n",
    "\n",
    "\n",
    "\n",
    "[EOF]: end-of-file\n"
   ]
  },
  {
   "cell_type": "code",
   "execution_count": null,
   "metadata": {
    "collapsed": true
   },
   "outputs": [],
   "source": []
  }
 ],
 "metadata": {
  "kernelspec": {
   "display_name": "Python 3",
   "language": "python",
   "name": "python3"
  },
  "language_info": {
   "codemirror_mode": {
    "name": "ipython",
    "version": 3
   },
   "file_extension": ".py",
   "mimetype": "text/x-python",
   "name": "python",
   "nbconvert_exporter": "python",
   "pygments_lexer": "ipython3",
   "version": "3.6.1"
  }
 },
 "nbformat": 4,
 "nbformat_minor": 2
}
