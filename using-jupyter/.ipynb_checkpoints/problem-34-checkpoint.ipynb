{
 "cells": [
  {
   "cell_type": "markdown",
   "metadata": {},
   "source": [
    "# Problem 34\n",
    "\n",
    "https://projecteuler.net/problem=34\n",
    "\n",
    "145 is a curious number, as 1! + 4! + 5! = 1 + 24 + 120 = 145.\n",
    "\n",
    "Find the sum of all numbers which are equal to the sum of the factorial of their digits.\n",
    "\n",
    "Note: as 1! = 1 and 2! = 2 are not sums they are not included."
   ]
  },
  {
   "cell_type": "markdown",
   "metadata": {},
   "source": [
    "## WIP: Delete...\n",
    "\n",
    "## Notes\n",
    "\n",
    "We can easily brute force this by iterating numbers 10 and above, breaking them down into their component digits, and summing up their factorials. The challenge here is when to stop. My hunch is that we can stop once the sum of the factorials is greater than the original number.\n",
    "\n",
    "Hmm... Okay, my hunch is wrong. 9! is 362880. Therefore 1! + 9! > 19. If we had stopped here we would never find 145."
   ]
  },
  {
   "cell_type": "code",
   "execution_count": null,
   "metadata": {},
   "outputs": [],
   "source": [
    "from scipy.special import factorial\n",
    "factorial(9)"
   ]
  },
  {
   "cell_type": "code",
   "execution_count": null,
   "metadata": {},
   "outputs": [],
   "source": [
    "def fac(n):\n",
    "    return int(factorial(n))\n",
    "fac(3)"
   ]
  },
  {
   "cell_type": "code",
   "execution_count": null,
   "metadata": {},
   "outputs": [],
   "source": [
    "import numpy as np\n",
    "N = 100000\n",
    "for i in range(10, N+1):\n",
    "    digits = list(''+str(i))\n",
    "    factorials = list(map(lambda x: fac(int(x)), digits))\n",
    "    summation = np.sum(factorials)\n",
    "    #print('{} -> {} -> sum {}'.format(i, factorials, summation))\n",
    "    if i == summation:\n",
    "        print(i)"
   ]
  },
  {
   "cell_type": "markdown",
   "metadata": {},
   "source": [
    "Brute force in the manner above is too slow. We can do better. For example we can save the result of the summations.\n",
    "\n",
    "I think there's a better way..."
   ]
  },
  {
   "cell_type": "markdown",
   "metadata": {},
   "source": [
    "## Take 2\n",
    "\n",
    "Firstly we only need factorials for digits 0 to 9. It's much faster to lookup an array than to execute scipy's factorial function every time."
   ]
  },
  {
   "cell_type": "code",
   "execution_count": null,
   "metadata": {},
   "outputs": [],
   "source": [
    "from scipy.special import factorial\n",
    "def create_fac():\n",
    "    factorials = [int(factorial(i)) for i in range(10)]\n",
    "    def f(x):\n",
    "        return factorials[x]\n",
    "    return f\n",
    "fac = create_fac()"
   ]
  },
  {
   "cell_type": "code",
   "execution_count": null,
   "metadata": {},
   "outputs": [],
   "source": [
    "time fac(9)"
   ]
  },
  {
   "cell_type": "code",
   "execution_count": null,
   "metadata": {},
   "outputs": [],
   "source": [
    "time factorial(9)"
   ]
  },
  {
   "cell_type": "code",
   "execution_count": null,
   "metadata": {
    "collapsed": true
   },
   "outputs": [],
   "source": [
    "import numpy as np\n",
    "def dfs(chain, max_length):\n",
    "    concat_value = 0\n",
    "    for i in chain:\n",
    "        concat_value *= 10\n",
    "        concat_value += i\n",
    "    fac_sum = sum(map(lambda x: fac(x), chain))\n",
    "    #print(concat_value, fac_sum)\n",
    "    if fac_sum == concat_value and len(chain) >= 2:\n",
    "        yield concat_value\n",
    "    if len(chain) < max_length:\n",
    "        if len(chain) == 0:\n",
    "            lo = 1\n",
    "        else:\n",
    "            lo = 0\n",
    "        for i in range(lo, 10):\n",
    "            for x in dfs(chain + [i], max_length):\n",
    "                yield x\n"
   ]
  },
  {
   "cell_type": "code",
   "execution_count": null,
   "metadata": {},
   "outputs": [],
   "source": [
    "print(sum(map(lambda x: fac(x), [1,4,5])))"
   ]
  },
  {
   "cell_type": "code",
   "execution_count": null,
   "metadata": {},
   "outputs": [],
   "source": [
    "list(dfs([],5))"
   ]
  },
  {
   "cell_type": "markdown",
   "metadata": {},
   "source": [
    "## Thinking in terms of multi sets\n",
    "\n",
    "Observe that the sum of factorials for 145 is the same as the sum of factorials for any permutation of those digits. 541, 154, etc.\n",
    "\n",
    "Let the notation `{1145}` denote a multi set of digits 1, 1, 4, and 5. For clarity, we will always list the smaller digits first. Also, since it is a multi set, repeated digits are allowed. For example, the repeated 1s in `{1145}`.\n",
    "\n",
    "Let the function F(x) map a multi set x into a sum of factorials, as per the definition in problem 34.\n",
    "\n",
    "Let the function M(y) map a number y into a multi set corresponding to its digits. For example `M(123) == M(321)`.\n",
    "\n",
    "Using this notation we can say the following about 145.\n",
    "\n",
    "    F(M(145)) == 145\n",
    "\n",
    "Generalizing, we can rephrase problem 34 as finding all values y such that `F(M(y)) == y`. \n",
    "\n",
    "Observe that `M(123)` is the same as `M(321)`. That is, a single multi set maps from multiple numbers. A many to one mapping. Another way to put this is to say that a multi set maps to one or more numbers. Given this, and that we are searching for factorial sums over multi sets, it makes more sense to search the space of multi sets than to search the space of numbers. \n",
    "\n",
    "Observe that given a multi set, there is exactly one factorial sum. Then we can evaluate if **that sum** is a curious number by computing its multi set. Therefore we can rephrase the problem in terms of multi sets as follows. This form is better suited for searching the space of multi sets. \n",
    "\n",
    "    M(F(x)) == x\n",
    "\n",
    "The next piece of the puzzle is how to navigate the space of multi sets in an efficient manner. Also, how would we know when to stop?"
   ]
  },
  {
   "cell_type": "markdown",
   "metadata": {},
   "source": [
    "## Vector representation for multi sets\n",
    "\n",
    "Since the only set members in our multi sets are digits, we can represent our multi sets as vectors of digit counts. For example the multi set `{1145}` would be a vector `[0,2,0,0,1,1,0,0,0,0]`.\n",
    "\n",
    "**Note:** The count at the 0-th position of the vector is also important because `0! == 1`.\n",
    "\n",
    "Multi set equality using this notation is when two vectors have the same count at each digit position. In Python you can directly use the `==` operator."
   ]
  },
  {
   "cell_type": "markdown",
   "metadata": {},
   "source": [
    "## Code"
   ]
  },
  {
   "cell_type": "code",
   "execution_count": 19,
   "metadata": {
    "collapsed": true
   },
   "outputs": [],
   "source": [
    "# Define `fac(n)` function that returns the factorial of `n`.\n",
    "# For values of n in 0..9. We precalculate the factorials\n",
    "# since those are the only factorials we will need to solve\n",
    "# this problem.\n",
    "from scipy.special import factorial\n",
    "def create_fac():\n",
    "    factorials = [int(factorial(i)) for i in range(10)]\n",
    "    def f(x):\n",
    "        return factorials[x]\n",
    "    return f\n",
    "fac = create_fac()"
   ]
  },
  {
   "cell_type": "code",
   "execution_count": 20,
   "metadata": {
    "collapsed": true
   },
   "outputs": [],
   "source": [
    "# Define F(v) where v is a multiset in vector form.\n",
    "def F(v):\n",
    "    assert len(v) == 10\n",
    "    s = 0\n",
    "    for i in range(10):\n",
    "        s += fac(i) * v[i]\n",
    "    return s"
   ]
  },
  {
   "cell_type": "code",
   "execution_count": 27,
   "metadata": {},
   "outputs": [],
   "source": [
    "# The following assertion should pass.\n",
    "assert F([0,1,0,0,1,1,0,0,0,0]) == 145\n",
    "assert F([1,0,0,0,1,2,0,0,1,0]) == 40585"
   ]
  },
  {
   "cell_type": "code",
   "execution_count": 22,
   "metadata": {},
   "outputs": [],
   "source": [
    "# Vector equality works in python\n",
    "assert [0,1,0,0,1,1,0,0,0,0] == [0,1,0,0,1,1,0,0,0,0]\n",
    "assert [1,1,0,0,0,0,0,0,0,0] != [0,0,0,0,0,0,0,0,1,1]"
   ]
  },
  {
   "cell_type": "code",
   "execution_count": 23,
   "metadata": {
    "collapsed": true
   },
   "outputs": [],
   "source": [
    "# Define M(k) that converts a number k into a multiset vector.\n",
    "def M(k):\n",
    "    v = [0] * 10\n",
    "    while k > 0:\n",
    "        r = k % 10\n",
    "        k = k // 10\n",
    "        v[r] += 1\n",
    "    return v"
   ]
  },
  {
   "cell_type": "code",
   "execution_count": 28,
   "metadata": {},
   "outputs": [],
   "source": [
    "# The following assertions about M(k) should pass.\n",
    "assert M(145) == [0,1,0,0,1,1,0,0,0,0]\n",
    "assert M(541) == [0,1,0,0,1,1,0,0,0,0]\n",
    "assert M(5141) == [0,2,0,0,1,1,0,0,0,0]\n",
    "assert M(40585) == [1,0,0,0,1,2,0,0,1,0]"
   ]
  },
  {
   "cell_type": "code",
   "execution_count": 29,
   "metadata": {
    "collapsed": true
   },
   "outputs": [],
   "source": [
    "# Assertions to test relationships mentioned in the design.\n",
    "assert F(M(145)) == 145\n",
    "assert M(F([0,1,0,0,1,1,0,0,0,0])) == [0,1,0,0,1,1,0,0,0,0]"
   ]
  },
  {
   "cell_type": "code",
   "execution_count": 38,
   "metadata": {
    "collapsed": true
   },
   "outputs": [],
   "source": [
    "# try this....\n",
    "\n",
    "def explore(v):\n",
    "    # Let s be the factorial sum of multi set v\n",
    "    s = F(v)\n",
    "    # Let u be the multi set vector for s.\n",
    "    u = M(s)\n",
    "\n",
    "    # print(v, s, u)\n",
    "\n",
    "    if u == v:\n",
    "        if sum(u) > 1:\n",
    "            yield s\n",
    "    else:\n",
    "        if sum(u) <= sum(v):\n",
    "            for i in range(10):\n",
    "                v[i] += 1\n",
    "                for x in explore(v):\n",
    "                    yield x\n",
    "                v[i] -= 1\n"
   ]
  },
  {
   "cell_type": "code",
   "execution_count": 39,
   "metadata": {},
   "outputs": [
    {
     "ename": "RecursionError",
     "evalue": "maximum recursion depth exceeded in comparison",
     "output_type": "error",
     "traceback": [
      "\u001b[0;31m---------------------------------------------------------------------------\u001b[0m",
      "\u001b[0;31mRecursionError\u001b[0m                            Traceback (most recent call last)",
      "\u001b[0;32m<ipython-input-39-bfd13ba4eb2d>\u001b[0m in \u001b[0;36m<module>\u001b[0;34m()\u001b[0m\n\u001b[0;32m----> 1\u001b[0;31m \u001b[0;32mfor\u001b[0m \u001b[0mi\u001b[0m \u001b[0;32min\u001b[0m \u001b[0mexplore\u001b[0m\u001b[0;34m(\u001b[0m\u001b[0mM\u001b[0m\u001b[0;34m(\u001b[0m\u001b[0;36m10\u001b[0m\u001b[0;34m)\u001b[0m\u001b[0;34m)\u001b[0m\u001b[0;34m:\u001b[0m\u001b[0;34m\u001b[0m\u001b[0m\n\u001b[0m\u001b[1;32m      2\u001b[0m     \u001b[0mprint\u001b[0m\u001b[0;34m(\u001b[0m\u001b[0mi\u001b[0m\u001b[0;34m)\u001b[0m\u001b[0;34m\u001b[0m\u001b[0m\n",
      "\u001b[0;32m<ipython-input-38-b4012f896d40>\u001b[0m in \u001b[0;36mexplore\u001b[0;34m(v)\u001b[0m\n\u001b[1;32m     14\u001b[0m             \u001b[0;32mfor\u001b[0m \u001b[0mi\u001b[0m \u001b[0;32min\u001b[0m \u001b[0mrange\u001b[0m\u001b[0;34m(\u001b[0m\u001b[0;36m10\u001b[0m\u001b[0;34m)\u001b[0m\u001b[0;34m:\u001b[0m\u001b[0;34m\u001b[0m\u001b[0m\n\u001b[1;32m     15\u001b[0m                 \u001b[0mv\u001b[0m\u001b[0;34m[\u001b[0m\u001b[0mi\u001b[0m\u001b[0;34m]\u001b[0m \u001b[0;34m+=\u001b[0m \u001b[0;36m1\u001b[0m\u001b[0;34m\u001b[0m\u001b[0m\n\u001b[0;32m---> 16\u001b[0;31m                 \u001b[0;32mfor\u001b[0m \u001b[0mx\u001b[0m \u001b[0;32min\u001b[0m \u001b[0mexplore\u001b[0m\u001b[0;34m(\u001b[0m\u001b[0mv\u001b[0m\u001b[0;34m)\u001b[0m\u001b[0;34m:\u001b[0m\u001b[0;34m\u001b[0m\u001b[0m\n\u001b[0m\u001b[1;32m     17\u001b[0m                     \u001b[0;32myield\u001b[0m \u001b[0mx\u001b[0m\u001b[0;34m\u001b[0m\u001b[0m\n\u001b[1;32m     18\u001b[0m                 \u001b[0mv\u001b[0m\u001b[0;34m[\u001b[0m\u001b[0mi\u001b[0m\u001b[0;34m]\u001b[0m \u001b[0;34m-=\u001b[0m \u001b[0;36m1\u001b[0m\u001b[0;34m\u001b[0m\u001b[0m\n",
      "... last 1 frames repeated, from the frame below ...\n",
      "\u001b[0;32m<ipython-input-38-b4012f896d40>\u001b[0m in \u001b[0;36mexplore\u001b[0;34m(v)\u001b[0m\n\u001b[1;32m     14\u001b[0m             \u001b[0;32mfor\u001b[0m \u001b[0mi\u001b[0m \u001b[0;32min\u001b[0m \u001b[0mrange\u001b[0m\u001b[0;34m(\u001b[0m\u001b[0;36m10\u001b[0m\u001b[0;34m)\u001b[0m\u001b[0;34m:\u001b[0m\u001b[0;34m\u001b[0m\u001b[0m\n\u001b[1;32m     15\u001b[0m                 \u001b[0mv\u001b[0m\u001b[0;34m[\u001b[0m\u001b[0mi\u001b[0m\u001b[0;34m]\u001b[0m \u001b[0;34m+=\u001b[0m \u001b[0;36m1\u001b[0m\u001b[0;34m\u001b[0m\u001b[0m\n\u001b[0;32m---> 16\u001b[0;31m                 \u001b[0;32mfor\u001b[0m \u001b[0mx\u001b[0m \u001b[0;32min\u001b[0m \u001b[0mexplore\u001b[0m\u001b[0;34m(\u001b[0m\u001b[0mv\u001b[0m\u001b[0;34m)\u001b[0m\u001b[0;34m:\u001b[0m\u001b[0;34m\u001b[0m\u001b[0m\n\u001b[0m\u001b[1;32m     17\u001b[0m                     \u001b[0;32myield\u001b[0m \u001b[0mx\u001b[0m\u001b[0;34m\u001b[0m\u001b[0m\n\u001b[1;32m     18\u001b[0m                 \u001b[0mv\u001b[0m\u001b[0;34m[\u001b[0m\u001b[0mi\u001b[0m\u001b[0;34m]\u001b[0m \u001b[0;34m-=\u001b[0m \u001b[0;36m1\u001b[0m\u001b[0;34m\u001b[0m\u001b[0m\n",
      "\u001b[0;31mRecursionError\u001b[0m: maximum recursion depth exceeded in comparison"
     ]
    }
   ],
   "source": [
    "for i in explore(M(10)):\n",
    "    print(i)"
   ]
  },
  {
   "cell_type": "code",
   "execution_count": null,
   "metadata": {
    "collapsed": true
   },
   "outputs": [],
   "source": []
  }
 ],
 "metadata": {
  "kernelspec": {
   "display_name": "Python 3",
   "language": "python",
   "name": "python3"
  },
  "language_info": {
   "codemirror_mode": {
    "name": "ipython",
    "version": 3
   },
   "file_extension": ".py",
   "mimetype": "text/x-python",
   "name": "python",
   "nbconvert_exporter": "python",
   "pygments_lexer": "ipython3",
   "version": "3.6.1"
  }
 },
 "nbformat": 4,
 "nbformat_minor": 2
}
